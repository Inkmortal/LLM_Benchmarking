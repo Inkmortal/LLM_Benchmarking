{
 "cells": [
  {
   "cell_type": "markdown",
   "metadata": {},
   "source": [
    "# Development Utilities Notebook\n",
    "\n",
    "This notebook provides utilities for testing and debugging during development, particularly focused on module reloading and utility testing.\n",
    "\n",
    "## Contents\n",
    "1. Setup and Path Configuration\n",
    "2. Module Reloading Utilities\n",
    "3. Test Cases\n",
    "4. Example Workflows"
   ]
  },
  {
   "cell_type": "markdown",
   "metadata": {},
   "source": [
    "## 1. Setup and Path Configuration\n",
    "\n",
    "First, let's set up our environment and ensure we can access our project modules."
   ]
  },
  {
   "cell_type": "code",
   "execution_count": null,
   "metadata": {},
   "outputs": [],
   "source": [
    "import os\n",
    "import sys\n",
    "import importlib\n",
    "from pathlib import Path\n",
    "\n",
    "# Add project root to path\n",
    "project_root = Path(\"../..\").resolve()\n",
    "if str(project_root) not in sys.path:\n",
    "    sys.path.append(str(project_root))\n",
    "\n",
    "print(f\"Project root added to path: {project_root}\")"
   ]
  },
  {
   "cell_type": "markdown",
   "metadata": {},
   "source": [
    "## 2. Module Reloading Utilities\n",
    "\n",
    "These functions help manage module reloading during development."
   ]
  },
  {
   "cell_type": "code",
   "execution_count": null,
   "metadata": {},
   "outputs": [],
   "source": [
    "def reload_module(module_name: str) -> None:\n",
    "    \"\"\"Reload a module by name.\n",
    "    \n",
    "    Args:\n",
    "        module_name: Full module path (e.g., 'utils.notebook_utils.dataset_utils')\n",
    "    \"\"\"\n",
    "    if module_name in sys.modules:\n",
    "        print(f\"Reloading {module_name}...\")\n",
    "        importlib.reload(sys.modules[module_name])\n",
    "    else:\n",
    "        print(f\"Module {module_name} not loaded yet\")\n",
    "\n",
    "def clear_module_cache(module_prefix: str = 'utils') -> None:\n",
    "    \"\"\"Clear all cached modules with given prefix.\n",
    "    \n",
    "    Args:\n",
    "        module_prefix: Only clear modules starting with this prefix\n",
    "    \"\"\"\n",
    "    modules_to_clear = [m for m in sys.modules if m.startswith(module_prefix)]\n",
    "    for m in modules_to_clear:\n",
    "        del sys.modules[m]\n",
    "    print(f\"Cleared {len(modules_to_clear)} modules from cache\")\n",
    "\n",
    "def reload_all_utils() -> None:\n",
    "    \"\"\"Reload all utility modules in the correct order.\"\"\"\n",
    "    # Clear existing cache\n",
    "    clear_module_cache('utils')\n",
    "    \n",
    "    # Import and reload in dependency order\n",
    "    import utils.notebook_utils.dataset_utils\n",
    "    import utils.notebook_utils.document_utils\n",
    "    import utils.notebook_utils.importable\n",
    "    \n",
    "    reload_module('utils.notebook_utils.dataset_utils')\n",
    "    reload_module('utils.notebook_utils.document_utils')\n",
    "    reload_module('utils.notebook_utils.importable')\n",
    "    \n",
    "    print(\"All utility modules reloaded\")"
   ]
  },
  {
   "cell_type": "markdown",
   "metadata": {},
   "source": [
    "## 3. Test Cases\n",
    "\n",
    "Here we define test cases for our utilities."
   ]
  },
  {
   "cell_type": "code",
   "execution_count": null,
   "metadata": {},
   "outputs": [],
   "source": [
    "def test_dataset_utils():\n",
    "    \"\"\"Test dataset utilities functionality.\"\"\"\n",
    "    from utils.notebook_utils.dataset_utils import load_labeled_dataset, DATASET_REGISTRY\n",
    "    \n",
    "    print(\"Available datasets in registry:\")\n",
    "    for name, info in DATASET_REGISTRY.items():\n",
    "        print(f\"- {name}: {info['description']}\")\n",
    "    \n",
    "    # Test dataset loading\n",
    "    dataset_dir = project_root / \"datasets/rag_evaluation/labeled/covid19_origin\"\n",
    "    print(f\"\\nTesting dataset loading from {dataset_dir}\")\n",
    "    \n",
    "    try:\n",
    "        dataset, documents = load_labeled_dataset(dataset_dir, download_if_missing=True)\n",
    "        print(f\"Successfully loaded dataset with {len(dataset.examples)} examples and {len(documents)} documents\")\n",
    "    except Exception as e:\n",
    "        print(f\"Error loading dataset: {str(e)}\")\n",
    "\n",
    "def run_all_tests():\n",
    "    \"\"\"Run all test cases.\"\"\"\n",
    "    print(\"Running dataset utils tests...\\n\")\n",
    "    test_dataset_utils()\n",
    "    print(\"\\nAll tests completed\")"
   ]
  },
  {
   "cell_type": "markdown",
   "metadata": {},
   "source": [
    "## 4. Example Workflows\n",
    "\n",
    "Here are some common development workflows."
   ]
  },
  {
   "cell_type": "markdown",
   "metadata": {},
   "source": [
    "### Workflow 1: Update and Test Dataset Utils\n",
    "\n",
    "Use this workflow when making changes to dataset_utils.py:"
   ]
  },
  {
   "cell_type": "code",
   "execution_count": null,
   "metadata": {},
   "outputs": [],
   "source": [
    "# 1. Reload all utilities\n",
    "reload_all_utils()\n",
    "\n",
    "# 2. Run tests\n",
    "test_dataset_utils()"
   ]
  },
  {
   "cell_type": "markdown",
   "metadata": {},
   "source": [
    "### Workflow 2: Debug Dataset Loading\n",
    "\n",
    "Use this workflow to debug dataset loading issues:"
   ]
  },
  {
   "cell_type": "code",
   "execution_count": null,
   "metadata": {},
   "outputs": [],
   "source": [
    "# 1. Reload modules\n",
    "reload_all_utils()\n",
    "\n",
    "# 2. Import with fresh modules\n",
    "from utils.notebook_utils.dataset_utils import load_labeled_dataset\n",
    "\n",
    "# 3. Test specific dataset\n",
    "dataset_dir = project_root / \"datasets/rag_evaluation/labeled/covid19_origin\"\n",
    "try:\n",
    "    dataset, documents = load_labeled_dataset(dataset_dir, download_if_missing=True)\n",
    "    print(f\"Success! Loaded {len(dataset.examples)} examples\")\n",
    "except Exception as e:\n",
    "    print(f\"Error: {str(e)}\")\n",
    "    \n",
    "    # 4. Debug directory structure\n",
    "    print(\"\\nChecking directory structure:\")\n",
    "    print(f\"Dataset directory exists: {dataset_dir.exists()}\")\n",
    "    if dataset_dir.exists():\n",
    "        print(\"Contents:\")\n",
    "        for item in dataset_dir.glob(\"*\"):\n",
    "            print(f\"- {item.name}\")"
   ]
  }
 ],
 "metadata": {
  "kernelspec": {
   "display_name": "Python 3",
   "language": "python",
   "name": "python3"
  },
  "language_info": {
   "codemirror_mode": {
    "name": "ipython",
    "version": 3
   },
   "file_extension": ".py",
   "mimetype": "text/x-python",
   "name": "python",
   "nbconvert_exporter": "python",
   "pygments_lexer": "ipython3",
   "version": "3.10.0"
  }
 },
 "nbformat": 4,
 "nbformat_minor": 4
}
