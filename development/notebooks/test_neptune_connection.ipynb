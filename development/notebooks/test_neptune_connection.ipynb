{
 "cells": [
  {
   "cell_type": "markdown",
   "metadata": {},
   "source": [
    "# Test Neptune Connection\n",
    "\n",
    "This notebook:\n",
    "1. Validates/fixes VPC configuration\n",
    "2. Validates/fixes Neptune cluster configuration\n",
    "3. Tests connectivity from notebook to Neptune\n",
    "4. Only cleans up resources if explicitly requested"
   ]
  },
  {
   "cell_type": "code",
   "execution_count": null,
   "metadata": {},
   "source": [
    "import os\n",
    "import sys\n",
    "from pathlib import Path\n",
    "\n",
    "# Add project root to path\n",
    "project_root = Path().absolute().parent.parent\n",
    "sys.path.append(str(project_root))\n",
    "\n",
    "from utils.aws.neptune import NeptuneManager"
   ]
  },
  {
   "cell_type": "code",
   "execution_count": null,
   "metadata": {},
   "source": [
    "# Initialize Neptune manager (never cleanup on error)\n",
    "manager = NeptuneManager(\n",
    "    cluster_name='test-graph-rag-benchmark',\n",
    "    cleanup_enabled=False,\n",
    "    verbose=True,\n",
    "    region='us-west-2',\n",
    "    reuse_existing=True  # Try to reuse existing resources\n",
    ")"
   ]
  },
  {
   "cell_type": "code",
   "execution_count": null,
   "metadata": {},
   "source": [
    "# Set up cluster (will validate and fix if needed)\n",
    "print(\"\\nValidating Neptune infrastructure...\")\n",
    "endpoint = manager.setup_cluster()\n",
    "print(\"\\nCluster endpoint:\", endpoint)"
   ]
  },
  {
   "cell_type": "code",
   "execution_count": null,
   "metadata": {},
   "source": [
    "# Test connectivity\n",
    "print(\"\\nTesting connectivity...\")\n",
    "result = manager.graph.g.inject(1).toList()\n",
    "print(\"Query successful:\", result)\n",
    "\n",
    "print(\"\\nAll tests passed!\")\n",
    "print(\"You can now use this endpoint in your notebooks:\", endpoint)"
   ]
  },
  {
   "cell_type": "code",
   "execution_count": null,
   "metadata": {},
   "source": [
    "# Optional cleanup (uncomment to run)\n",
    "\"\"\"\n",
    "print(\"\\nWARNING: About to delete all Neptune resources\")\n",
    "confirm = input(\"Are you sure? [y/N] \")\n",
    "if confirm.lower() == 'y':\n",
    "    print(\"\\nCleaning up Neptune resources...\")\n",
    "    manager.cleanup_enabled = True\n",
    "    manager.cleanup()\n",
    "else:\n",
    "    print(\"\\nSkipping cleanup\")\n",
    "\"\"\""
   ]
  }
 ],
 "metadata": {
  "kernelspec": {
   "display_name": "Python 3",
   "language": "python",
   "name": "python3"
  },
  "language_info": {
   "codemirror_mode": {
    "name": "ipython",
    "version": 3
   },
   "file_extension": ".py",
   "mimetype": "text/x-python",
   "name": "python",
   "nbconvert_exporter": "python",
   "pygments_lexer": "ipython3",
   "version": "3.8.0"
  }
 },
 "nbformat": 4,
 "nbformat_minor": 4
}
