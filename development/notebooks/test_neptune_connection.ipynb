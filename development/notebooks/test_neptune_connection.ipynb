{
 "cells": [
  {
   "cell_type": "markdown",
   "metadata": {},
   "source": [
    "# Neptune Connection Testing\n",
    "\n",
    "This notebook tests direct connection to Neptune following the official documentation."
   ]
  },
  {
   "cell_type": "code",
   "execution_count": null,
   "metadata": {},
   "source": [
    "import os\n",
    "import boto3\n",
    "import logging\n",
    "from botocore.auth import SigV4Auth\n",
    "from botocore.awsrequest import AWSRequest\n",
    "from gremlin_python.driver.driver_remote_connection import DriverRemoteConnection\n",
    "from gremlin_python.driver.protocol import GremlinServerError\n",
    "from gremlin_python.process.anonymous_traversal import traversal\n",
    "from gremlin_python.driver.tornado.transport import TornadoTransport\n",
    "\n",
    "# Set up logging\n",
    "logging.basicConfig(level=logging.INFO)\n",
    "logger = logging.getLogger(__name__)"
   ]
  },
  {
   "cell_type": "markdown",
   "metadata": {},
   "source": [
    "## 1. Connection Configuration"
   ]
  },
  {
   "cell_type": "code",
   "execution_count": null,
   "metadata": {},
   "source": [
    "# Neptune endpoint\n",
    "ENDPOINT = \"graph-rag-originofcovid19dataset-benchmark.cluster-c7m8ay28gj4o.us-west-2.neptune.amazonaws.com\"\n",
    "PORT = 8182\n",
    "\n",
    "# Construct database URL\n",
    "database_url = f\"wss://{ENDPOINT}:{PORT}/gremlin\"\n",
    "print(f\"Database URL: {database_url}\")"
   ]
  },
  {
   "cell_type": "markdown",
   "metadata": {},
   "source": [
    "## 2. Test Connection"
   ]
  },
  {
   "cell_type": "code",
   "execution_count": null,
   "metadata": {},
   "source": [
    "def create_remote_connection(url, headers=None):\n",
    "    \"\"\"Create a remote connection with Tornado transport.\"\"\"\n",
    "    return DriverRemoteConnection(\n",
    "        url,\n",
    "        'g',\n",
    "        headers=headers,\n",
    "        transport_factory=lambda: TornadoTransport(\n",
    "            read_timeout=300,\n",
    "            write_timeout=300\n",
    "        )\n",
    "    )\n",
    "\n",
    "try:\n",
    "    # Get AWS credentials\n",
    "    print(\"Getting AWS credentials...\")\n",
    "    creds = boto3.Session().get_credentials().get_frozen_credentials()\n",
    "    \n",
    "    # Set up request with IAM auth\n",
    "    print(\"Setting up IAM auth...\")\n",
    "    request = AWSRequest(method=\"GET\", url=database_url)\n",
    "    SigV4Auth(creds, \"neptune-db\", boto3.Session().region_name).add_auth(request)\n",
    "    \n",
    "    # Initialize connection\n",
    "    print(\"Initializing connection...\")\n",
    "    remoteConn = create_remote_connection(\n",
    "        database_url,\n",
    "        headers=request.headers.items()\n",
    "    )\n",
    "    \n",
    "    # Create traversal source\n",
    "    print(\"Creating traversal source...\")\n",
    "    g = traversal().withRemote(remoteConn)\n",
    "    \n",
    "    # Test simple query\n",
    "    print(\"\\nTesting query...\")\n",
    "    result = g.inject(1).toList()  # Simple test query that doesn't require graph access\n",
    "    print(f\"Query result: {result}\")\n",
    "    \n",
    "    print(\"\\nConnection test successful!\")\n",
    "    \n",
    "except Exception as e:\n",
    "    print(f\"\\nConnection failed: {str(e)}\")\n",
    "    raise\n",
    "    \n",
    "finally:\n",
    "    # Clean up\n",
    "    if 'remoteConn' in locals():\n",
    "        print(\"\\nClosing connection...\")\n",
    "        remoteConn.close()"
   ]
  }
 ],
 "metadata": {
  "kernelspec": {
   "display_name": "Python 3",
   "language": "python",
   "name": "python3"
  },
  "language_info": {
   "codemirror_mode": {
    "name": "ipython",
    "version": 3
   },
   "file_extension": ".py",
   "mimetype": "text/x-python",
   "name": "python",
   "nbconvert_exporter": "python",
   "pygments_lexer": "ipython3",
   "version": "3.8.0"
  }
 },
 "nbformat": 4,
 "nbformat_minor": 4
}
