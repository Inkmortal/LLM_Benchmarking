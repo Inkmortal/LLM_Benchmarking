{
 "cells": [
  {
   "cell_type": "markdown",
   "metadata": {},
   "source": [
    "# Neptune Connection Testing\n",
    "\n",
    "This notebook tests direct connection to Neptune to debug connection issues."
   ]
  },
  {
   "cell_type": "code",
   "execution_count": null,
   "metadata": {},
   "source": [
    "import os\n",
    "import time\n",
    "import boto3\n",
    "import logging\n",
    "from botocore.auth import SigV4Auth\n",
    "from botocore.awsrequest import AWSRequest\n",
    "from gremlin_python.driver.driver_remote_connection import DriverRemoteConnection\n",
    "from gremlin_python.driver.protocol import GremlinServerError\n",
    "from gremlin_python.process.anonymous_traversal import traversal\n",
    "\n",
    "# Set up logging\n",
    "logging.basicConfig(level=logging.INFO)\n",
    "logger = logging.getLogger(__name__)"
   ]
  },
  {
   "cell_type": "markdown",
   "metadata": {},
   "source": [
    "## 1. Connection Configuration"
   ]
  },
  {
   "cell_type": "code",
   "execution_count": null,
   "metadata": {},
   "source": [
    "# Neptune endpoint from existing cluster\n",
    "ENDPOINT = \"graph-rag-originofcovid19dataset-benchmark.cluster-c7m8ay28gj4o.us-west-2.neptune.amazonaws.com\"\n",
    "\n",
    "# Connection settings\n",
    "MAX_RETRIES = 5\n",
    "RETRY_DELAY = 5.0\n",
    "CONNECTION_TIMEOUT = 60  # seconds"
   ]
  },
  {
   "cell_type": "markdown",
   "metadata": {},
   "source": [
    "## 2. Test Network Connectivity"
   ]
  },
  {
   "cell_type": "code",
   "execution_count": null,
   "metadata": {},
   "source": [
    "import socket\n",
    "\n",
    "def test_network(endpoint):\n",
    "    \"\"\"Test basic network connectivity to endpoint.\"\"\"\n",
    "    try:\n",
    "        # Try DNS resolution\n",
    "        print(f\"Resolving {endpoint}...\")\n",
    "        ip = socket.gethostbyname(endpoint)\n",
    "        print(f\"DNS resolution successful: {ip}\")\n",
    "        \n",
    "        # Try TCP connection\n",
    "        print(\"Testing TCP connection...\")\n",
    "        sock = socket.create_connection((endpoint, 8182), timeout=10)\n",
    "        sock.close()\n",
    "        print(\"TCP connection successful\")\n",
    "        \n",
    "        return True\n",
    "        \n",
    "    except socket.gaierror as e:\n",
    "        print(f\"DNS resolution failed: {str(e)}\")\n",
    "        return False\n",
    "    except socket.timeout as e:\n",
    "        print(f\"Connection timed out: {str(e)}\")\n",
    "        return False\n",
    "    except Exception as e:\n",
    "        print(f\"Network test failed: {str(e)}\")\n",
    "        return False\n",
    "\n",
    "# Test network connectivity\n",
    "test_network(ENDPOINT)"
   ]
  },
  {
   "cell_type": "markdown",
   "metadata": {},
   "source": [
    "## 3. Test IAM Permissions"
   ]
  },
  {
   "cell_type": "code",
   "execution_count": null,
   "metadata": {},
   "source": [
    "def test_iam_permissions():\n",
    "    \"\"\"Test IAM permissions for Neptune access.\"\"\"\n",
    "    try:\n",
    "        # Get identity\n",
    "        sts = boto3.client('sts')\n",
    "        identity = sts.get_caller_identity()\n",
    "        print(f\"Current identity: {identity['Arn']}\")\n",
    "        \n",
    "        # List Neptune resources\n",
    "        neptune = boto3.client('neptune')\n",
    "        clusters = neptune.describe_db_clusters()\n",
    "        print(\"\\nAccessible Neptune clusters:\")\n",
    "        for cluster in clusters['DBClusters']:\n",
    "            print(f\"- {cluster['DBClusterIdentifier']}\")\n",
    "            \n",
    "        return True\n",
    "        \n",
    "    except Exception as e:\n",
    "        print(f\"IAM permission test failed: {str(e)}\")\n",
    "        return False\n",
    "\n",
    "# Test IAM permissions\n",
    "test_iam_permissions()"
   ]
  },
  {
   "cell_type": "markdown",
   "metadata": {},
   "source": [
    "## 4. Test Direct Connection"
   ]
  },
  {
   "cell_type": "code",
   "execution_count": null,
   "metadata": {},
   "source": [
    "def test_connection(endpoint, max_retries=5, retry_delay=5.0, timeout=60):\n",
    "    \"\"\"Test Neptune connection with detailed logging.\"\"\"\n",
    "    \n",
    "    database_url = f\"wss://{endpoint}:8182/gremlin\"\n",
    "    logger.info(f\"Attempting to connect to: {database_url}\")\n",
    "    \n",
    "    # Get AWS credentials\n",
    "    try:\n",
    "        creds = boto3.Session().get_credentials().get_frozen_credentials()\n",
    "        logger.info(\"AWS credentials retrieved successfully\")\n",
    "    except Exception as e:\n",
    "        logger.error(f\"Failed to get AWS credentials: {str(e)}\")\n",
    "        raise\n",
    "    \n",
    "    # Set up request with IAM auth\n",
    "    try:\n",
    "        request = AWSRequest(method=\"GET\", url=database_url)\n",
    "        SigV4Auth(creds, \"neptune-db\", boto3.Session().region_name).add_auth(request)\n",
    "        logger.info(\"Request signed with SigV4\")\n",
    "    except Exception as e:\n",
    "        logger.error(f\"Failed to set up authentication: {str(e)}\")\n",
    "        raise\n",
    "    \n",
    "    # Attempt connection with retries\n",
    "    last_error = None\n",
    "    for attempt in range(max_retries):\n",
    "        try:\n",
    "            logger.info(f\"Connection attempt {attempt + 1}/{max_retries}\")\n",
    "            \n",
    "            # Initialize connection\n",
    "            connection = DriverRemoteConnection(\n",
    "                database_url,\n",
    "                'g',\n",
    "                headers=request.headers.items(),\n",
    "                message_timeout=timeout\n",
    "            )\n",
    "            logger.info(\"Connection initialized\")\n",
    "            \n",
    "            # Create traversal source\n",
    "            g = traversal().withRemote(connection)\n",
    "            logger.info(\"Traversal source created\")\n",
    "            \n",
    "            # Test query\n",
    "            logger.info(\"Testing connection with simple query...\")\n",
    "            result = g.V().limit(1).toList()\n",
    "            logger.info(f\"Query successful! Result: {result}\")\n",
    "            \n",
    "            return connection, g\n",
    "            \n",
    "        except Exception as e:\n",
    "            last_error = e\n",
    "            logger.error(f\"Attempt {attempt + 1} failed: {str(e)}\")\n",
    "            \n",
    "            # Clean up connection on failure\n",
    "            if 'connection' in locals():\n",
    "                try:\n",
    "                    connection.close()\n",
    "                except:\n",
    "                    pass\n",
    "            \n",
    "            if attempt < max_retries - 1:\n",
    "                delay = min(60, retry_delay * (2 ** attempt))\n",
    "                logger.info(f\"Waiting {delay} seconds before retry...\")\n",
    "                time.sleep(delay)\n",
    "            else:\n",
    "                logger.error(\"All connection attempts failed\")\n",
    "                raise ConnectionError(\n",
    "                    f\"Failed to connect to Neptune after {max_retries} attempts\"\n",
    "                ) from last_error"
   ]
  },
  {
   "cell_type": "code",
   "execution_count": null,
   "metadata": {},
   "source": [
    "# Test connection with current settings\n",
    "try:\n",
    "    connection, g = test_connection(\n",
    "        endpoint=ENDPOINT,\n",
    "        max_retries=MAX_RETRIES,\n",
    "        retry_delay=RETRY_DELAY,\n",
    "        timeout=CONNECTION_TIMEOUT\n",
    "    )\n",
    "    print(\"Connection successful!\")\n",
    "    \n",
    "    # Clean up\n",
    "    connection.close()\n",
    "except Exception as e:\n",
    "    print(f\"Connection failed: {str(e)}\")"
   ]
  }
 ],
 "metadata": {
  "kernelspec": {
   "display_name": "Python 3",
   "language": "python",
   "name": "python3"
  },
  "language_info": {
   "codemirror_mode": {
    "name": "ipython",
    "version": 3
   },
   "file_extension": ".py",
   "mimetype": "text/x-python",
   "name": "python",
   "nbconvert_exporter": "python",
   "pygments_lexer": "ipython3",
   "version": "3.8.0"
  }
 },
 "nbformat": 4,
 "nbformat_minor": 4
}
