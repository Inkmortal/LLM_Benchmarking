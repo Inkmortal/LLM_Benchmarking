{
 "cells": [
  {
   "cell_type": "markdown",
   "metadata": {},
   "source": [
    "# Neptune Connection Testing\n",
    "\n",
    "This notebook tests connection to Neptune using neptune-python-utils."
   ]
  },
  {
   "cell_type": "code",
   "execution_count": null,
   "metadata": {},
   "source": [
    "# Install neptune-python-utils if not already installed\n",
    "!pip install neptune-python-utils"
   ]
  },
  {
   "cell_type": "code",
   "execution_count": null,
   "metadata": {},
   "source": [
    "import os\n",
    "import boto3\n",
    "import logging\n",
    "from neptune_python_utils.endpoints import Endpoints\n",
    "from neptune_python_utils.gremlin_utils import GremlinUtils\n",
    "\n",
    "# Set up logging\n",
    "logging.basicConfig(level=logging.INFO)\n",
    "logger = logging.getLogger(__name__)"
   ]
  },
  {
   "cell_type": "code",
   "execution_count": null,
   "metadata": {},
   "source": [
    "# Neptune endpoint\n",
    "CLUSTER_NAME = \"graph-rag-originofcovid19dataset-benchmark\"\n",
    "ENDPOINT = f\"{CLUSTER_NAME}.cluster-c7m8ay28gj4o.us-west-2.neptune.amazonaws.com\"\n",
    "PORT = 8182\n",
    "\n",
    "# Create endpoints with proxy support\n",
    "endpoints = Endpoints(\n",
    "    neptune_endpoint=ENDPOINT,\n",
    "    region_name='us-west-2',\n",
    "    proxy_dns='localhost',  # Using localhost since we're in a notebook\n",
    "    proxy_port=PORT,\n",
    "    remove_host_header=False  # Important for ALB\n",
    ")\n",
    "\n",
    "print(f\"Database URL: wss://{ENDPOINT}:{PORT}/gremlin\")"
   ]
  },
  {
   "cell_type": "code",
   "execution_count": null,
   "metadata": {},
   "source": [
    "# Initialize Gremlin utilities\n",
    "GremlinUtils.init_statics(globals())\n",
    "gremlin_utils = GremlinUtils(endpoints)\n",
    "\n",
    "try:\n",
    "    # Create connection with SSL verification disabled since we're using a proxy\n",
    "    print(\"\\nInitializing connection...\")\n",
    "    conn = gremlin_utils.remote_connection(ssl=False)\n",
    "    \n",
    "    # Create traversal source\n",
    "    print(\"Creating traversal source...\")\n",
    "    g = gremlin_utils.traversal_source(connection=conn)\n",
    "    \n",
    "    # Test simple query\n",
    "    print(\"\\nTesting query...\")\n",
    "    result = g.inject(1).toList()  # Simple test query that doesn't require graph access\n",
    "    print(f\"Query result: {result}\")\n",
    "    \n",
    "    print(\"\\nConnection test successful!\")\n",
    "    \n",
    "except Exception as e:\n",
    "    print(f\"\\nConnection failed: {str(e)}\")\n",
    "    raise\n",
    "    \n",
    "finally:\n",
    "    # Clean up\n",
    "    if 'conn' in locals():\n",
    "        print(\"\\nClosing connection...\")\n",
    "        conn.close()"
   ]
  },
  {
   "cell_type": "code",
   "execution_count": null,
   "metadata": {},
   "source": [
    "# Test a more complex query\n",
    "try:\n",
    "    # Create a new connection\n",
    "    conn = gremlin_utils.remote_connection(ssl=False)\n",
    "    g = gremlin_utils.traversal_source(connection=conn)\n",
    "    \n",
    "    # Try to get vertex count\n",
    "    print(\"\\nGetting vertex count...\")\n",
    "    count = g.V().count().next()\n",
    "    print(f\"Number of vertices: {count}\")\n",
    "    \n",
    "    # Try to get some vertex properties\n",
    "    print(\"\\nGetting vertex properties...\")\n",
    "    vertices = g.V().limit(5).valueMap(True).toList()\n",
    "    print(\"Sample vertices:\")\n",
    "    for v in vertices:\n",
    "        print(f\"\\n{v}\")\n",
    "        \n",
    "except Exception as e:\n",
    "    print(f\"\\nQuery failed: {str(e)}\")\n",
    "    raise\n",
    "    \n",
    "finally:\n",
    "    if 'conn' in locals():\n",
    "        conn.close()"
   ]
  }
 ],
 "metadata": {
  "kernelspec": {
   "display_name": "Python 3",
   "language": "python",
   "name": "python3"
  },
  "language_info": {
   "codemirror_mode": {
    "name": "ipython",
    "version": 3
   },
   "file_extension": ".py",
   "mimetype": "text/x-python",
   "name": "python",
   "nbconvert_exporter": "python",
   "pygments_lexer": "ipython3",
   "version": "3.8.0"
  }
 },
 "nbformat": 4,
 "nbformat_minor": 4
}
