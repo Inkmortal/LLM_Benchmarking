{
 "cells": [
  {
   "cell_type": "markdown",
   "metadata": {},
   "source": [
    "# Test RAGAs Evaluation\n",
    "\n",
    "This notebook provides a minimal test setup for RAGAs evaluation.\n",
    "Assumes OpenSearch is already set up and data is loaded from baseline_rag_benchmark.ipynb.\n",
    "\n",
    "## Features\n",
    "- Small dataset subset for quick testing\n",
    "- Cache clearing for rapid iterations\n",
    "- Detailed error reporting"
   ]
  },
  {
   "cell_type": "code",
   "execution_count": null,
   "metadata": {},
   "outputs": [],
   "source": [
    "import os\n",
    "import sys\n",
    "import json\n",
    "import importlib\n",
    "import asyncio\n",
    "from pathlib import Path\n",
    "from datasets import Dataset\n",
    "from ragas import evaluate\n",
    "from ragas.metrics import (\n",
    "    faithfulness,\n",
    "    answer_relevancy,\n",
    "    context_recall,\n",
    "    context_precision,\n",
    ")\n",
    "\n",
    "# Add project root to path\n",
    "project_root = Path(\"../..\").resolve()\n",
    "if str(project_root) not in sys.path:\n",
    "    sys.path.append(str(project_root))\n",
    "\n",
    "# Import utilities\n",
    "from utils.notebook_utils.dataset_utils import load_labeled_dataset\n",
    "from utils.notebook_utils.importable import notebook_to_module"
   ]
  },
  {
   "cell_type": "code",
   "execution_count": null,
   "metadata": {},
   "outputs": [],
   "source": [
    "# Clear module cache to pick up changes\n",
    "def clear_module_cache():\n",
    "    \"\"\"Clear imported module cache to pick up changes\"\"\"\n",
    "    modules_to_clear = [\n",
    "        m for m in sys.modules\n",
    "        if m.startswith('utils.') or \n",
    "           m.startswith('rag_implementations.')\n",
    "    ]\n",
    "    for module in modules_to_clear:\n",
    "        del sys.modules[module]\n",
    "    print(f\"Cleared {len(modules_to_clear)} modules from cache\")\n",
    "\n",
    "clear_module_cache()"
   ]
  },
  {
   "cell_type": "code",
   "execution_count": null,
   "metadata": {},
   "outputs": [],
   "source": [
    "# Load small subset of data\n",
    "DATASET_DIR = project_root / \"datasets/rag_evaluation/labeled/covid19_origin\"\n",
    "NUM_TEST_SAMPLES = 3  # Small subset for testing\n",
    "\n",
    "print(\"Loading dataset...\")\n",
    "dataset, documents = load_labeled_dataset(DATASET_DIR)\n",
    "test_examples = dataset.examples[:NUM_TEST_SAMPLES]\n",
    "print(f\"Using {len(test_examples)} test examples\")"
   ]
  },
  {
   "cell_type": "code",
   "execution_count": null,
   "metadata": {},
   "outputs": [],
   "source": [
    "# Import RAG implementation (assumes OpenSearch is set up)\n",
    "implementation_path = str(project_root / 'rag_implementations/baseline_rag/implementation.ipynb')\n",
    "BaselineRAG = notebook_to_module(implementation_path).BaselineRAG\n",
    "\n",
    "# Initialize RAG\n",
    "rag = BaselineRAG(index_name=\"origincovid19dataset-benchmark\")"
   ]
  },
  {
   "cell_type": "code",
   "execution_count": null,
   "metadata": {},
   "outputs": [],
   "source": [
    "# Generate answers and collect contexts\n",
    "print(\"Generating answers...\")\n",
    "questions = []\n",
    "answers = []\n",
    "contexts = []\n",
    "ground_truths = []\n",
    "\n",
    "for example in test_examples:\n",
    "    print(f\"\\nQuery: {example.query}\")\n",
    "    result = rag.query(example.query)\n",
    "    \n",
    "    questions.append(example.query)\n",
    "    answers.append(result['response'])\n",
    "    contexts.append([doc['content'] for doc in result['context']])\n",
    "    ground_truths.append([example.reference_answer])  # RAGAs expects list of lists\n",
    "    \n",
    "    print(f\"Retrieved {len(result['context'])} context documents\")\n",
    "    print(f\"Answer: {result['response'][:100]}...\")"
   ]
  },
  {
   "cell_type": "code",
   "execution_count": null,
   "metadata": {},
   "outputs": [],
   "source": [
    "# Create RAGAs dataset\n",
    "data = {\n",
    "    \"question\": questions,\n",
    "    \"answer\": answers,\n",
    "    \"contexts\": contexts,\n",
    "    \"ground_truths\": ground_truths\n",
    "}\n",
    "\n",
    "# Convert to dataset\n",
    "eval_dataset = Dataset.from_dict(data)\n",
    "print(\"Dataset structure:\")\n",
    "print(eval_dataset)"
   ]
  },
  {
   "cell_type": "code",
   "execution_count": null,
   "metadata": {},
   "outputs": [],
   "source": [
    "# Run evaluation\n",
    "print(\"Running evaluation...\")\n",
    "try:\n",
    "    results = evaluate(\n",
    "        dataset=eval_dataset,\n",
    "        metrics=[\n",
    "            context_precision,\n",
    "            context_recall,\n",
    "            faithfulness,\n",
    "            answer_relevancy\n",
    "        ]\n",
    "    )\n",
    "    \n",
    "    # Convert to pandas for better display\n",
    "    df = results.to_pandas()\n",
    "    print(\"\\nResults:\")\n",
    "    print(df)\n",
    "    \n",
    "except Exception as e:\n",
    "    print(f\"Error during evaluation: {type(e).__name__}\")\n",
    "    print(f\"Error details: {str(e)}\")\n",
    "    print(\"\\nDataset contents:\")\n",
    "    for key, value in data.items():\n",
    "        print(f\"\\n{key}:\")\n",
    "        print(f\"Type: {type(value)}\")\n",
    "        print(f\"Length: {len(value)}\")\n",
    "        print(f\"First item: {value[0][:100]}...\")\n",
    "    raise"
   ]
  }
 ],
 "metadata": {
  "kernelspec": {
   "display_name": "Python 3",
   "language": "python",
   "name": "python3"
  },
  "language_info": {
   "codemirror_mode": {
    "name": "ipython",
    "version": 3
   },
   "file_extension": ".py",
   "mimetype": "text/x-python",
   "name": "python",
   "nbconvert_exporter": "python",
   "pygments_lexer": "ipython3",
   "version": "3.8.0"
  }
 },
 "nbformat": 4,
 "nbformat_minor": 4
}
