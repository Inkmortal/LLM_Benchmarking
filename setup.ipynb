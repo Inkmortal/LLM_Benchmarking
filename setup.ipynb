{
 "cells": [
  {
   "cell_type": "markdown",
   "metadata": {},
   "source": [
    "# Environment Setup\n",
    "\n",
    "Run this notebook first to set up your environment for the RAG benchmarking framework. This will:\n",
    "1. Install all required dependencies\n",
    "2. Configure AWS access\n",
    "3. Test imports and utilities\n",
    "4. Create necessary directories"
   ]
  },
  {
   "cell_type": "markdown",
   "metadata": {},
   "source": [
    "## 1. Install Dependencies\n",
    "\n",
    "Run this cell to install all required packages. This only needs to be done once per environment."
   ]
  },
  {
   "cell_type": "code",
   "execution_count": null,
   "metadata": {},
   "source": [
    "from utils.setup import install_requirements\n",
    "\n",
    "success = install_requirements('requirements.txt')\n",
    "print(f\"[DEBUG] install_requirements returned: {success}\")\n",
    "if success:\n",
    "    print(\"\\n✅ All packages ready!\")\n",
    "else:\n",
    "    print(\"\\n❌ Package installation failed. Please check the errors above and try again.\")"
   ]
  },
  {
   "cell_type": "markdown",
   "metadata": {},
   "source": [
    "## 2. Configure AWS Access\n",
    "\n",
    "Check AWS access and test permissions for each required service (S3, Bedrock, Neptune, OpenSearch)."
   ]
  },
  {
   "cell_type": "code",
   "execution_count": null,
   "metadata": {},
   "source": [
    "from utils.aws import check_aws_access\n",
    "\n",
    "check_aws_access()"
   ]
  },
  {
   "cell_type": "markdown",
   "metadata": {},
   "source": [
    "## 3. Test Imports\n",
    "\n",
    "Verify that all required packages and utilities can be imported correctly."
   ]
  },
  {
   "cell_type": "code",
   "execution_count": null,
   "metadata": {},
   "source": [
    "from utils.setup import test_imports\n",
    "\n",
    "test_imports()"
   ]
  },
  {
   "cell_type": "markdown",
   "metadata": {},
   "source": [
    "## 4. Create Directories\n",
    "\n",
    "Set up necessary directories for results and data."
   ]
  },
  {
   "cell_type": "code",
   "execution_count": null,
   "metadata": {},
   "source": [
    "from utils.setup import setup_directories\n",
    "\n",
    "setup_directories()"
   ]
  },
  {
   "cell_type": "markdown",
   "metadata": {},
   "source": [
    "## Setup Complete!\n",
    "\n",
    "If all cells above show successful completion (✅), your environment is ready to use!\n",
    "\n",
    "You can now proceed to:\n",
    "1. Open notebooks in evaluation_pipelines/templates/\n",
    "2. Create your own RAG implementations\n",
    "3. Run evaluations and comparisons\n",
    "\n",
    "All dependencies are installed in your current environment and will be available to all notebooks in this project."
   ]
  }
 ],
 "metadata": {
  "kernelspec": {
   "display_name": "Python 3",
   "language": "python",
   "name": "python3"
  },
  "language_info": {
   "codemirror_mode": {
    "name": "ipython",
    "version": 3
   },
   "file_extension": ".py",
   "mimetype": "text/x-python",
   "name": "python",
   "nbconvert_exporter": "python",
   "pygments_lexer": "ipython3",
   "version": "3.10.0"
  }
 },
 "nbformat": 4,
 "nbformat_minor": 4
}
