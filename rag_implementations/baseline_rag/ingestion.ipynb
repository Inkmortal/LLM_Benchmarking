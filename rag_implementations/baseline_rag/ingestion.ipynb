{
 "cells": [
  {
   "cell_type": "markdown",
   "metadata": {},
   "source": [
    "# Document Ingestion for Baseline RAG\n",
    "\n",
    "This notebook demonstrates document ingestion for the baseline RAG system using the document preprocessing utilities.\n",
    "\n",
    "## Features\n",
    "- Text extraction and cleaning\n",
    "- Document chunking with configurable size and overlap\n",
    "- Metadata preservation\n",
    "- Batch processing for large document sets\n",
    "\n",
    "## Usage\n",
    "1. Load source material (text files, PDFs, etc.)\n",
    "2. Process and chunk documents\n",
    "3. Ingest into RAG system"
   ]
  },
  {
   "cell_type": "code",
   "execution_count": null,
   "metadata": {},
   "source": [
    "import os\n",
    "from pathlib import Path\n",
    "from utils.notebook_utils.importable import notebook_to_module\n",
    "from utils.notebook_utils.document_utils import DocumentPreprocessor, ingest_documents\n",
    "\n",
    "# Import our RAG implementation\n",
    "baseline_rag = notebook_to_module('implementation.ipynb')\n",
    "BaselineRAG = baseline_rag.BaselineRAG"
   ]
  },
  {
   "cell_type": "code",
   "execution_count": null,
   "metadata": {},
   "source": [
    "# Example usage\n",
    "def test_ingestion():\n",
    "    # Create test documents\n",
    "    os.makedirs('test_docs', exist_ok=True)\n",
    "    \n",
    "    with open('test_docs/doc1.txt', 'w') as f:\n",
    "        f.write(\"\"\"\n",
    "        Machine learning is a subset of artificial intelligence that focuses on developing systems that can learn from data.\n",
    "        Deep learning is a type of machine learning that uses neural networks with multiple layers.\n",
    "        Reinforcement learning is another type of machine learning where agents learn by interacting with an environment.\n",
    "        \"\"\")\n",
    "    \n",
    "    with open('test_docs/doc2.txt', 'w') as f:\n",
    "        f.write(\"\"\"\n",
    "        Natural Language Processing (NLP) is a field of AI that focuses on interactions between computers and human language.\n",
    "        Common NLP tasks include text classification, named entity recognition, and machine translation.\n",
    "        \"\"\")\n",
    "    \n",
    "    # Initialize RAG system\n",
    "    rag = BaselineRAG(index_name=\"test-rag-documents\")\n",
    "    \n",
    "    # Test ingestion\n",
    "    print(\"Ingesting documents...\")\n",
    "    ingest_documents(\n",
    "        'test_docs',\n",
    "        rag,\n",
    "        metadata={'dataset': 'test', 'domain': 'AI/ML'},\n",
    "        batch_size=2\n",
    "    )\n",
    "    \n",
    "    # Test query\n",
    "    print(\"\\nTesting query...\")\n",
    "    result = rag.query(\"What is machine learning and deep learning?\")\n",
    "    \n",
    "    print(\"\\nResponse:\", result['response'])\n",
    "    print(\"\\nContext used:\")\n",
    "    for doc in result['context']:\n",
    "        print(f\"- {doc['content']}\")\n",
    "        print(f\"  Metadata: {doc['metadata']}\")\n",
    "    \n",
    "    # Cleanup\n",
    "    import shutil\n",
    "    shutil.rmtree('test_docs')\n",
    "\n",
    "if __name__ == \"__main__\":\n",
    "    test_ingestion()"
   ]
  }
 ],
 "metadata": {
  "kernelspec": {
   "display_name": "Python 3",
   "language": "python",
   "name": "python3"
  },
  "language_info": {
   "codemirror_mode": {
    "name": "ipython",
    "version": 3
   },
   "file_extension": ".py",
   "mimetype": "text/x-python",
   "name": "python",
   "nbconvert_exporter": "python",
   "pygments_lexer": "ipython3",
   "version": "3.8.0"
  }
 },
 "nbformat": 4,
 "nbformat_minor": 4
}
