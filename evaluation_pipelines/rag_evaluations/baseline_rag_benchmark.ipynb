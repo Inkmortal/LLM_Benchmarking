{
 "cells": [
  {
   "cell_type": "markdown",
   "metadata": {},
   "source": [
    "# Baseline RAG Benchmarking\n",
    "\n",
    "This notebook benchmarks a baseline RAG implementation using OpenSearch for vector storage.\n",
    "\n",
    "## Configuration Options\n",
    "\n",
    "### Document Processing\n",
    "- chunk_size: Number of words per chunk (default: 500)\n",
    "- chunk_overlap: Number of overlapping words between chunks (default: 50)\n",
    "\n",
    "### Vector Search\n",
    "- search_type: Type of vector search ('script' or 'knn', default: 'script')\n",
    "- similarity_threshold: Minimum similarity score (default: None)\n",
    "\n",
    "### API Settings\n",
    "- max_retries: Maximum retry attempts (default: 5)\n",
    "- min_delay: Minimum retry delay in seconds (default: 1)\n",
    "- max_delay: Maximum retry delay in seconds (default: 60)"
   ]
  },
  {
   "cell_type": "code",
   "execution_count": null,
   "metadata": {},
   "outputs": [],
   "source": [
    "import os\n",
    "import sys\n",
    "import json\n",
    "from pathlib import Path\n",
    "from typing import List, Dict, Any, Optional\n",
    "from tqdm.auto import tqdm\n",
    "from tqdm.notebook import tqdm as tqdm_notebook\n",
    "\n",
    "# Add project root to path for imports\n",
    "project_root = Path(\"../..\").resolve()\n",
    "if str(project_root) not in sys.path:\n",
    "    sys.path.append(str(project_root))\n",
    "\n",
    "# Import utilities\n",
    "from utils.metrics.rag_metrics import RAGMetricsEvaluator\n",
    "from utils.notebook_utils.dataset_utils import (\n",
    "    load_labeled_dataset,\n",
    "    examine_dataset_structure,\n",
    "    save_dataset_info,\n",
    "    convert_to_ragas_dataset\n",
    ")\n",
    "from utils.notebook_utils.importable import notebook_to_module"
   ]
  },
  {
   "cell_type": "code",
   "execution_count": null,
   "metadata": {},
   "outputs": [],
   "source": [
    "# Dataset Configuration\n",
    "DATASET_NAME = \"OriginOfCovid19Dataset\"\n",
    "DATASET_DIR = project_root / \"datasets/rag_evaluation/labeled/covid19_origin\"\n",
    "NUM_EVAL_SAMPLES = None  # Set to a number for partial evaluation\n",
    "\n",
    "# RAG Configuration\n",
    "RAG_CONFIG = {\n",
    "    # Document processing\n",
    "    \"chunk_size\": 500,  # 500 words ≈ 2000 chars\n",
    "    \"chunk_overlap\": 50,  # 50 words overlap\n",
    "    \"enable_chunking\": True,\n",
    "    \n",
    "    # Vector search\n",
    "    \"search_type\": \"script\",\n",
    "    \"similarity_threshold\": None,\n",
    "    \n",
    "    # OpenSearch config\n",
    "    \"index_settings\": None,\n",
    "    \n",
    "    # API settings\n",
    "    \"max_retries\": 5,\n",
    "    \"min_delay\": 1.0,\n",
    "    \"max_delay\": 60.0\n",
    "}\n",
    "\n",
    "print(\"Note: This notebook uses Amazon OpenSearch which incurs costs.\")\n",
    "print(\"OpenSearch resources will be cleaned up after benchmarking.\")"
   ]
  },
  {
   "cell_type": "code",
   "execution_count": null,
   "metadata": {},
   "outputs": [],
   "source": [
    "# Import implementation\n",
    "implementation_path = str(project_root / 'rag_implementations/baseline_rag/implementation.ipynb')\n",
    "ingestion_path = str(project_root / 'rag_implementations/baseline_rag/ingestion.ipynb')\n",
    "BaselineRAG = notebook_to_module(implementation_path).BaselineRAG\n",
    "ingest_documents = notebook_to_module(ingestion_path).ingest_documents\n",
    "\n",
    "# Initialize evaluator\n",
    "evaluator = RAGMetricsEvaluator()"
   ]
  },
  {
   "cell_type": "code",
   "execution_count": null,
   "metadata": {},
   "outputs": [],
   "source": [
    "# Load and examine dataset\n",
    "print(f\"Loading {DATASET_NAME}...\")\n",
    "dataset, documents = load_labeled_dataset(DATASET_DIR, download_if_missing=True)\n",
    "print(f\"Loaded {len(dataset.examples)} examples and {len(documents)} documents\")\n",
    "\n",
    "# Get evaluation examples\n",
    "eval_examples = dataset.examples[:NUM_EVAL_SAMPLES] if NUM_EVAL_SAMPLES else dataset.examples\n",
    "print(f\"Using {len(eval_examples)} examples for evaluation\")\n",
    "\n",
    "# Examine dataset structure\n",
    "dataset_info = examine_dataset_structure(dataset, documents)\n",
    "print(\"\\nDataset Structure:\")\n",
    "print(json.dumps(dataset_info, indent=2))\n",
    "\n",
    "# Save dataset info\n",
    "save_dataset_info(dataset_info, DATASET_DIR / 'dataset_info.json')\n",
    "print(f\"\\nDataset information saved to: {DATASET_DIR / 'dataset_info.json'}\")"
   ]
  },
  {
   "cell_type": "code",
   "execution_count": null,
   "metadata": {},
   "outputs": [],
   "source": [
    "# Initialize BaselineRAG with configuration\n",
    "print(\"\\nInitializing BaselineRAG...\")\n",
    "rag = BaselineRAG(\n",
    "    index_name=f\"{DATASET_NAME.lower()}\",  # Shortened to avoid domain name length issues\n",
    "    **RAG_CONFIG\n",
    ")\n",
    "\n",
    "# Check if documents already exist\n",
    "print(\"\\nChecking existing documents...\")\n",
    "doc_count = rag.vector_store.client.search(\n",
    "    index=rag.index_name,\n",
    "    body={\"query\": {\"match_all\": {}}}\n",
    ")['hits']['total']['value']\n",
    "print(f\"Found {doc_count} documents already indexed\")\n",
    "\n",
    "if doc_count > 0:\n",
    "    print(\"Skipping ingestion since documents already exist\")\n",
    "else:\n",
    "    print(\"Ingesting documents...\")\n",
    "    source_dir = DATASET_DIR / \"source_files\"\n",
    "    ingest_documents(\n",
    "        str(source_dir),\n",
    "        rag,\n",
    "        metadata={'dataset': DATASET_NAME},\n",
    "        batch_size=100\n",
    "    )"
   ]
  },
  {
   "cell_type": "code",
   "execution_count": null,
   "metadata": {},
   "outputs": [],
   "source": [
    "# Run evaluation\n",
    "print(\"\\nRunning evaluation...\")\n",
    "results = evaluator.evaluate_unlabeled(\n",
    "    queries=[example.query for example in eval_examples],\n",
    "    contexts=[[doc['content'] for doc in rag.query(example.query, k=5)['context']] for example in eval_examples],\n",
    "    generated_answers=[rag.query(example.query, k=5)['response'] for example in eval_examples],\n",
    "    plot_results=True\n",
    ")"
   ]
  },
  {
   "cell_type": "code",
   "execution_count": null,
   "metadata": {},
   "outputs": [],
   "source": [
    "# Example queries\n",
    "example_queries = [\n",
    "    \"What is the main focus of the article 'The Origin of COVID-19 and Why It Matters'?\",\n",
    "    \"What evidence suggests that SARS-CoV-2 emerged naturally rather than being engineered?\",\n",
    "    \"What are some potential consequences of not understanding how COVID-19 emerged?\"\n",
    "]\n",
    "\n",
    "print(\"Testing example queries...\\n\")\n",
    "for query in example_queries:\n",
    "    print(f\"Query: {query}\")\n",
    "    result = rag.query(query, k=5)\n",
    "    print(f\"Response: {result['response']}\\n\")\n",
    "    print(\"Context:\")\n",
    "    for doc in result['context']:\n",
    "        print(f\"  - {doc['content'][:200]}...\")  # Print first 200 characters\n",
    "    print(\"-\" * 80)"
   ]
  },
  {
   "cell_type": "code",
   "execution_count": null,
   "metadata": {},
   "outputs": [],
   "source": [
    "# Resource Cleanup\n",
    "print(\"=== Cleaning Up Resources ===\")\n",
    "print(\"Warning: This will delete all resources and indexed data\")\n",
    "print(\"This may take 15-20 minutes to complete\")\n",
    "try:\n",
    "    rag.cleanup(delete_resources=True)  # Delete index and domain\n",
    "    print(\"✅ Cleanup successful\")\n",
    "except Exception as e:\n",
    "    print(f\"❌ Error during cleanup: {str(e)}\")\n",
    "    print(\"Some resources may need to be cleaned up manually\")"
   ]
  }
 ],
 "metadata": {
  "kernelspec": {
   "display_name": "Python 3",
   "language": "python",
   "name": "python3"
  },
  "language_info": {
   "codemirror_mode": {
    "name": "ipython",
    "version": 3
   },
   "file_extension": ".py",
   "mimetype": "text/x-python",
   "name": "python",
   "nbconvert_exporter": "python",
   "pygments_lexer": "ipython3",
   "version": "3.8.0"
  }
 },
 "nbformat": 4,
 "nbformat_minor": 4
}
